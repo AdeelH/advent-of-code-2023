{
 "cells": [
  {
   "cell_type": "markdown",
   "id": "9b40e7db-1f85-4768-866e-52c32ba782c1",
   "metadata": {},
   "source": [
    "# 2\n",
    "\n",
    "https://adventofcode.com/2023/day/2"
   ]
  },
  {
   "cell_type": "markdown",
   "id": "9ff987e7-0f2e-4155-9957-10053b95e38d",
   "metadata": {},
   "source": [
    "## Part 1"
   ]
  },
  {
   "cell_type": "code",
   "execution_count": 1,
   "id": "c10240af-6695-4e5d-a2cd-012935978b6a",
   "metadata": {},
   "outputs": [],
   "source": [
    "from typing import List, Tuple\n",
    "import re\n",
    "import numpy as np"
   ]
  },
  {
   "cell_type": "code",
   "execution_count": 2,
   "id": "b6bff44e-603a-49f9-9a32-d768199c657e",
   "metadata": {},
   "outputs": [],
   "source": [
    "reg_r = re.compile(r'(\\d+)\\s+red')\n",
    "reg_g = re.compile(r'(\\d+)\\s+green')\n",
    "reg_b = re.compile(r'(\\d+)\\s+blue')\n",
    "\n",
    "def parse_draw_color_count(draw: str, regex: str) -> int:\n",
    "    try:\n",
    "        match = regex.findall(draw)[0]\n",
    "        return int(match)\n",
    "    except IndexError:\n",
    "        return 0\n",
    "\n",
    "def parse_game(line: str) -> np.ndarray:\n",
    "    draws = line.split(';')\n",
    "    reds = [parse_draw_color_count(draw, reg_r) for draw in draws]\n",
    "    greens = [parse_draw_color_count(draw, reg_g) for draw in draws]\n",
    "    blues = [parse_draw_color_count(draw, reg_b) for draw in draws]\n",
    "    out = np.stack([reds, greens, blues], axis=-1)\n",
    "    return out"
   ]
  },
  {
   "cell_type": "code",
   "execution_count": 3,
   "id": "6f45a070-7947-4708-8479-ec8709973b2a",
   "metadata": {},
   "outputs": [],
   "source": [
    "def solve_1(lines: List[str], constraint: Tuple[int, int, int]) -> int:\n",
    "    games = [line[line.find(':') + 1:].strip() for line in lines]\n",
    "    game_counts = [parse_game(game) for game in games]\n",
    "    games_possible = [(game <= constraint).all() for game in game_counts]\n",
    "    out = (np.where(games_possible)[0] + 1).sum()\n",
    "    return out"
   ]
  },
  {
   "cell_type": "code",
   "execution_count": 4,
   "id": "f23d30fb-0c35-4224-842a-3ad275cc85b3",
   "metadata": {},
   "outputs": [
    {
     "data": {
      "text/plain": [
       "8"
      ]
     },
     "execution_count": 4,
     "metadata": {},
     "output_type": "execute_result"
    }
   ],
   "source": [
    "test_lines = [\n",
    "    'Game 1: 3 blue, 4 red; 1 red, 2 green, 6 blue; 2 green',\n",
    "    'Game 2: 1 blue, 2 green; 3 green, 4 blue, 1 red; 1 green, 1 blue',\n",
    "    'Game 3: 8 green, 6 blue, 20 red; 5 blue, 4 red, 13 green; 5 green, 1 red',\n",
    "    'Game 4: 1 green, 3 red, 6 blue; 3 green, 6 red; 3 green, 15 blue, 14 red',\n",
    "    'Game 5: 6 red, 1 blue, 3 green; 2 blue, 1 red, 2 green',\n",
    "]\n",
    "solve_1(test_lines, (12, 13, 14))"
   ]
  },
  {
   "cell_type": "code",
   "execution_count": 5,
   "id": "32288e15-8d40-4694-ba85-00253356887e",
   "metadata": {},
   "outputs": [
    {
     "data": {
      "text/plain": [
       "2076"
      ]
     },
     "execution_count": 5,
     "metadata": {},
     "output_type": "execute_result"
    }
   ],
   "source": [
    "inputs_path = 'inputs/2.txt'\n",
    "\n",
    "with open(inputs_path, 'r') as f:\n",
    "    lines = [line.strip() for line in f.readlines()]\n",
    "\n",
    "solve_1(lines, (12, 13, 14))"
   ]
  },
  {
   "cell_type": "markdown",
   "id": "2da100ff-c05c-4587-b334-c5691b0c5f63",
   "metadata": {},
   "source": [
    "## Part 2"
   ]
  },
  {
   "cell_type": "code",
   "execution_count": 6,
   "id": "fa3ca296-68f4-42cc-931f-49440b2ff5d4",
   "metadata": {},
   "outputs": [],
   "source": [
    "def solve_2(lines: List[str]) -> int:\n",
    "    games = [line[line.find(':') + 1:].strip() for line in lines]\n",
    "    game_counts = [parse_game(game) for game in games]\n",
    "    games_min_counts = np.array([game.max(axis=0) for game in game_counts])\n",
    "    games_powers = games_min_counts.prod(axis=1)\n",
    "    out = games_powers.sum()\n",
    "    return out"
   ]
  },
  {
   "cell_type": "code",
   "execution_count": 7,
   "id": "3adc670e-9e3a-4f98-a2aa-56d63b05e947",
   "metadata": {},
   "outputs": [
    {
     "data": {
      "text/plain": [
       "2286"
      ]
     },
     "execution_count": 7,
     "metadata": {},
     "output_type": "execute_result"
    }
   ],
   "source": [
    "test_lines = [\n",
    "    'Game 1: 3 blue, 4 red; 1 red, 2 green, 6 blue; 2 green',\n",
    "    'Game 2: 1 blue, 2 green; 3 green, 4 blue, 1 red; 1 green, 1 blue',\n",
    "    'Game 3: 8 green, 6 blue, 20 red; 5 blue, 4 red, 13 green; 5 green, 1 red',\n",
    "    'Game 4: 1 green, 3 red, 6 blue; 3 green, 6 red; 3 green, 15 blue, 14 red',\n",
    "    'Game 5: 6 red, 1 blue, 3 green; 2 blue, 1 red, 2 green',\n",
    "]\n",
    "solve_2(test_lines)"
   ]
  },
  {
   "cell_type": "code",
   "execution_count": 8,
   "id": "d26d56b4-6460-4279-9fa9-1230c0f271af",
   "metadata": {},
   "outputs": [
    {
     "data": {
      "text/plain": [
       "70950"
      ]
     },
     "execution_count": 8,
     "metadata": {},
     "output_type": "execute_result"
    }
   ],
   "source": [
    "inputs_path = 'inputs/2.txt'\n",
    "\n",
    "with open(inputs_path, 'r') as f:\n",
    "    lines = [line.strip() for line in f.readlines()]\n",
    "\n",
    "solve_2(lines)"
   ]
  }
 ],
 "metadata": {
  "kernelspec": {
   "display_name": "Python 3 (ipykernel)",
   "language": "python",
   "name": "python3"
  },
  "language_info": {
   "codemirror_mode": {
    "name": "ipython",
    "version": 3
   },
   "file_extension": ".py",
   "mimetype": "text/x-python",
   "name": "python",
   "nbconvert_exporter": "python",
   "pygments_lexer": "ipython3",
   "version": "3.10.12"
  }
 },
 "nbformat": 4,
 "nbformat_minor": 5
}
