{
 "cells": [
  {
   "cell_type": "markdown",
   "id": "9b40e7db-1f85-4768-866e-52c32ba782c1",
   "metadata": {},
   "source": [
    "# 1\n",
    "\n",
    "https://adventofcode.com/2023/day/1"
   ]
  },
  {
   "cell_type": "markdown",
   "id": "9ff987e7-0f2e-4155-9957-10053b95e38d",
   "metadata": {},
   "source": [
    "## Part 1"
   ]
  },
  {
   "cell_type": "code",
   "execution_count": 1,
   "id": "e9a524b2-0a8d-498d-92e1-b673842a70c1",
   "metadata": {},
   "outputs": [],
   "source": [
    "import re"
   ]
  },
  {
   "cell_type": "code",
   "execution_count": 2,
   "id": "32288e15-8d40-4694-ba85-00253356887e",
   "metadata": {},
   "outputs": [
    {
     "data": {
      "text/plain": [
       "['99lbqpxzzlbtvkmfrvrnmcxttseven',\n",
       " 'q7cnfslbtpkvseven',\n",
       " '6threezlljtzcr1sdjkthree4cx']"
      ]
     },
     "execution_count": 2,
     "metadata": {},
     "output_type": "execute_result"
    }
   ],
   "source": [
    "inputs_path = 'inputs/1.txt'\n",
    "\n",
    "with open(inputs_path, 'r') as f:\n",
    "    lines = [line.strip() for line in f.readlines()]\n",
    "lines[:3]"
   ]
  },
  {
   "cell_type": "code",
   "execution_count": 3,
   "id": "36b77e98-214e-4f86-a458-d808ec272c23",
   "metadata": {},
   "outputs": [
    {
     "name": "stdout",
     "output_type": "stream",
     "text": [
      "regex_l ^[^\\d]*(\\d).*$\n",
      "regex_r ^.*(\\d)[^\\d]*$\n"
     ]
    }
   ],
   "source": [
    "regex_l = re.compile(r'^[^\\d]*(\\d).*$')\n",
    "regex_r = re.compile(r'^.*(\\d)[^\\d]*$')\n",
    "\n",
    "print('regex_l', regex_l.pattern)\n",
    "print('regex_r', regex_r.pattern)\n",
    "\n",
    "def extract_num(txt: str) -> int:\n",
    "    match_l = regex_l.fullmatch(txt)\n",
    "    match_r = regex_r.fullmatch(txt)\n",
    "    out = int(''.join(match_l.groups() + match_r.groups()))\n",
    "    return out"
   ]
  },
  {
   "cell_type": "code",
   "execution_count": 4,
   "id": "f23d30fb-0c35-4224-842a-3ad275cc85b3",
   "metadata": {},
   "outputs": [
    {
     "name": "stdout",
     "output_type": "stream",
     "text": [
      "12\n",
      "38\n",
      "15\n",
      "77\n"
     ]
    }
   ],
   "source": [
    "test_lines = [\n",
    "    '1abc2',\n",
    "    'pqr3stu8vwx',\n",
    "    'a1b2c3d4e5f',\n",
    "    'treb7uchet',\n",
    "]\n",
    "for line in test_lines:\n",
    "    print(extract_num(line))"
   ]
  },
  {
   "cell_type": "code",
   "execution_count": 5,
   "id": "5a660f15-5697-4777-81df-fa8349729192",
   "metadata": {},
   "outputs": [
    {
     "data": {
      "text/plain": [
       "56042"
      ]
     },
     "execution_count": 5,
     "metadata": {},
     "output_type": "execute_result"
    }
   ],
   "source": [
    "nums = [extract_num(line) for line in lines]\n",
    "sum(nums)"
   ]
  },
  {
   "cell_type": "markdown",
   "id": "2da100ff-c05c-4587-b334-c5691b0c5f63",
   "metadata": {},
   "source": [
    "## Part 2"
   ]
  },
  {
   "cell_type": "code",
   "execution_count": 6,
   "id": "ff69d869-bdca-4ae0-89d3-28f5e87429a4",
   "metadata": {},
   "outputs": [],
   "source": [
    "import re"
   ]
  },
  {
   "cell_type": "code",
   "execution_count": 7,
   "id": "72bcfb8b-b6cd-4cc5-8f41-80e8612c4c66",
   "metadata": {},
   "outputs": [
    {
     "data": {
      "text/plain": [
       "['99lbqpxzzlbtvkmfrvrnmcxttseven',\n",
       " 'q7cnfslbtpkvseven',\n",
       " '6threezlljtzcr1sdjkthree4cx']"
      ]
     },
     "execution_count": 7,
     "metadata": {},
     "output_type": "execute_result"
    }
   ],
   "source": [
    "inputs_path = 'inputs/1.txt'\n",
    "\n",
    "with open(inputs_path, 'r') as f:\n",
    "    lines = [line.strip() for line in f.readlines()]\n",
    "lines[:3]"
   ]
  },
  {
   "cell_type": "code",
   "execution_count": 8,
   "id": "af2d9fad-52ac-4e39-a40a-5471f1e3ec19",
   "metadata": {},
   "outputs": [
    {
     "name": "stdout",
     "output_type": "stream",
     "text": [
      "regex_l (\\d|one|two|three|four|five|six|seven|eight|nine)\n",
      "regex_r (\\d|eno|owt|eerht|ruof|evif|xis|neves|thgie|enin)\n"
     ]
    }
   ],
   "source": [
    "digit_names_l = ['one' ,'two' ,'three' ,'four' ,'five' ,'six' ,'seven' ,'eight' ,'nine']\n",
    "digit_names_r = [s[::-1] for s in digit_names_l]\n",
    "\n",
    "regex_l = re.compile(rf'(\\d|{\"|\".join(digit_names_l)})')\n",
    "regex_r = re.compile(rf'(\\d|{\"|\".join(digit_names_r)})')\n",
    "\n",
    "print('regex_l', regex_l.pattern)\n",
    "print('regex_r', regex_r.pattern)\n",
    "\n",
    "def to_int(s: str) -> int:\n",
    "    try: return int(s)\n",
    "    except ValueError: return digit_names_l.index(s) + 1\n",
    "\n",
    "def extract_num(txt: str) -> int:\n",
    "    txt_r = txt[::-1]\n",
    "    digit_1 = next(regex_l.finditer(txt)).groups()[0]\n",
    "    digit_2_r = next(regex_r.finditer(txt_r)).groups()[0]\n",
    "    digit_2 = digit_2_r[::-1]\n",
    "    out = to_int(digit_1) * 10 + to_int(digit_2)\n",
    "    return out"
   ]
  },
  {
   "cell_type": "code",
   "execution_count": 9,
   "id": "d71dd24c-23ed-4b91-a495-9299931a49ce",
   "metadata": {},
   "outputs": [
    {
     "name": "stdout",
     "output_type": "stream",
     "text": [
      "29\n",
      "83\n",
      "13\n",
      "24\n",
      "42\n",
      "14\n",
      "76\n"
     ]
    }
   ],
   "source": [
    "test_lines = [\n",
    "    'two1nine',\n",
    "    'eightwothree',\n",
    "    'abcone2threexyz',\n",
    "    'xtwone3four',\n",
    "    '4nineeightseven2',\n",
    "    'zoneight234',\n",
    "    '7pqrstsixteen',\n",
    "]\n",
    "for line in test_lines:\n",
    "    print(extract_num(line))"
   ]
  },
  {
   "cell_type": "code",
   "execution_count": 10,
   "id": "80a5d5e6-c867-4542-b427-bc4ca49b3721",
   "metadata": {},
   "outputs": [
    {
     "data": {
      "text/plain": [
       "55358"
      ]
     },
     "execution_count": 10,
     "metadata": {},
     "output_type": "execute_result"
    }
   ],
   "source": [
    "nums = [extract_num(line) for line in lines]\n",
    "sum(nums)"
   ]
  }
 ],
 "metadata": {
  "kernelspec": {
   "display_name": "Python 3 (ipykernel)",
   "language": "python",
   "name": "python3"
  },
  "language_info": {
   "codemirror_mode": {
    "name": "ipython",
    "version": 3
   },
   "file_extension": ".py",
   "mimetype": "text/x-python",
   "name": "python",
   "nbconvert_exporter": "python",
   "pygments_lexer": "ipython3",
   "version": "3.11.5"
  }
 },
 "nbformat": 4,
 "nbformat_minor": 5
}
