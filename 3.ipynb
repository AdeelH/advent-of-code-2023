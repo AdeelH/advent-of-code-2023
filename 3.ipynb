{
 "cells": [
  {
   "cell_type": "markdown",
   "id": "9b40e7db-1f85-4768-866e-52c32ba782c1",
   "metadata": {},
   "source": [
    "# 3\n",
    "\n",
    "https://adventofcode.com/2023/day/3"
   ]
  },
  {
   "cell_type": "markdown",
   "id": "9ff987e7-0f2e-4155-9957-10053b95e38d",
   "metadata": {},
   "source": [
    "## Part 1"
   ]
  },
  {
   "cell_type": "code",
   "execution_count": 1,
   "id": "c10240af-6695-4e5d-a2cd-012935978b6a",
   "metadata": {},
   "outputs": [],
   "source": [
    "from typing import List, Tuple\n",
    "import re\n",
    "import numpy as np"
   ]
  },
  {
   "cell_type": "code",
   "execution_count": 2,
   "id": "fc7293e1-e9fe-4597-b617-0ec7c882fdef",
   "metadata": {},
   "outputs": [],
   "source": [
    "class Grid:\n",
    "    def __init__(self, num_rows: int):\n",
    "        self.rows = [None] * num_rows\n",
    "\n",
    "    def add_symbol(self, i, j) -> None:\n",
    "        row_min, row_max = max(0, i - 1), min(len(self) - 1, i + 1)\n",
    "        col_min, col_max = max(0, j - 1), j + 1\n",
    "        for r in range(row_min, row_max + 1):\n",
    "            row = self.rows[r]\n",
    "            if row is None:\n",
    "                row = []\n",
    "                self.rows[r] = row\n",
    "            row.append((col_min, col_max))\n",
    "\n",
    "    def is_adjacent(self, row_idx: int, span: Tuple[int, int]) -> bool:\n",
    "        row_intervals = self.rows[row_idx]\n",
    "        if row_intervals is None:\n",
    "            return False\n",
    "        out = any(\n",
    "            self.intersects_intervals(row_intervals, i) for i in range(*span))\n",
    "        return out\n",
    "            \n",
    "    def intersects_intervals(self, intervals: np.ndarray, i: int) -> bool:\n",
    "        start, end = intervals.T\n",
    "        return np.any((i >= start) & (i <= end))\n",
    "\n",
    "    def optimize(self):\n",
    "        for i, row in enumerate(self.rows):\n",
    "            if row is None:\n",
    "                continue\n",
    "            self.rows[i] = np.array(row)\n",
    "\n",
    "    def __len__(self) -> int:\n",
    "        return len(self.rows)"
   ]
  },
  {
   "cell_type": "code",
   "execution_count": 3,
   "id": "5e79059f-7e6b-42d3-b0b5-61b92283a658",
   "metadata": {},
   "outputs": [],
   "source": [
    "test_lines = [\n",
    "    '467..114..',\n",
    "    '...*......',\n",
    "    '..35..633.',\n",
    "    '......#...',\n",
    "    '617*......',\n",
    "    '.....+.58.',\n",
    "    '..592.....',\n",
    "    '......755.',\n",
    "    '...$.*....',\n",
    "    '.664.598..',\n",
    "]"
   ]
  },
  {
   "cell_type": "code",
   "execution_count": 4,
   "id": "bd709350-713f-4dc3-a6a1-46b8099e1547",
   "metadata": {},
   "outputs": [],
   "source": [
    "reg_symbol = re.compile(r'([^\\.\\d])')\n",
    "reg_num = re.compile(r'(\\d+)')\n",
    "\n",
    "def make_grid(lines: List[str]) -> Grid:\n",
    "    grid = Grid(len(lines))\n",
    "    for i, line in enumerate(lines):\n",
    "        symbol_matches = reg_symbol.finditer(line)\n",
    "        symbol_inds = [m.start() for m in symbol_matches]\n",
    "        for j in symbol_inds:\n",
    "            grid.add_symbol(i, j)\n",
    "    grid.optimize()\n",
    "    return grid\n",
    "\n",
    "\n",
    "def sum_adjacent_nums(lines: List[str], grid: Grid) -> int:\n",
    "    out = 0\n",
    "    for i, line in enumerate(lines):\n",
    "        num_matches = list(reg_num.finditer(line))\n",
    "        nums = [int(m.group()) for m in num_matches]\n",
    "        num_spans = [m.span() for m in num_matches]\n",
    "        if len(num_spans) == 0:\n",
    "            continue\n",
    "        for num, span in zip(nums, num_spans):\n",
    "            if grid.is_adjacent(i, span):\n",
    "                out += num\n",
    "    return out"
   ]
  },
  {
   "cell_type": "code",
   "execution_count": 5,
   "id": "6f45a070-7947-4708-8479-ec8709973b2a",
   "metadata": {},
   "outputs": [],
   "source": [
    "def solve_1(lines: List[str]) -> int:\n",
    "    grid = make_grid(lines)\n",
    "    out = sum_adjacent_nums(lines, grid)\n",
    "    return out"
   ]
  },
  {
   "cell_type": "code",
   "execution_count": 6,
   "id": "f23d30fb-0c35-4224-842a-3ad275cc85b3",
   "metadata": {},
   "outputs": [
    {
     "data": {
      "text/plain": [
       "4361"
      ]
     },
     "execution_count": 6,
     "metadata": {},
     "output_type": "execute_result"
    }
   ],
   "source": [
    "test_lines = [\n",
    "    '467..114..',\n",
    "    '...*......',\n",
    "    '..35..633.',\n",
    "    '......#...',\n",
    "    '617*......',\n",
    "    '.....+.58.',\n",
    "    '..592.....',\n",
    "    '......755.',\n",
    "    '...$.*....',\n",
    "    '.664.598..',\n",
    "]\n",
    "solve_1(test_lines)"
   ]
  },
  {
   "cell_type": "code",
   "execution_count": 7,
   "id": "32288e15-8d40-4694-ba85-00253356887e",
   "metadata": {},
   "outputs": [
    {
     "data": {
      "text/plain": [
       "532428"
      ]
     },
     "execution_count": 7,
     "metadata": {},
     "output_type": "execute_result"
    }
   ],
   "source": [
    "inputs_path = 'inputs/3.txt'\n",
    "\n",
    "with open(inputs_path, 'r') as f:\n",
    "    lines = [line.strip() for line in f.readlines()]\n",
    "\n",
    "solve_1(lines)"
   ]
  },
  {
   "cell_type": "markdown",
   "id": "2da100ff-c05c-4587-b334-c5691b0c5f63",
   "metadata": {},
   "source": [
    "## Part 2"
   ]
  },
  {
   "cell_type": "code",
   "execution_count": 8,
   "id": "9bda6c63-0bc1-4ca3-80f2-7410c996eede",
   "metadata": {},
   "outputs": [],
   "source": [
    "class Grid2:\n",
    "    def __init__(self, num_rows: int):\n",
    "        self.rows = [None] * num_rows\n",
    "        self.row_nums = [None] * num_rows\n",
    "\n",
    "    def add_num(self, num: int, i: int, span: Tuple[int, int]) -> None:\n",
    "        row_min, row_max = max(0, i - 1), min(len(self) - 1, i + 1)\n",
    "        start, end = span\n",
    "        col_min, col_max = max(0, start - 1), end\n",
    "        for r in range(row_min, row_max + 1):\n",
    "            row = self.rows[r]\n",
    "            if row is None:\n",
    "                row = []\n",
    "                self.rows[r] = row\n",
    "            row.append((col_min, col_max))\n",
    "        for r in range(row_min, row_max + 1):\n",
    "            row = self.row_nums[r]\n",
    "            if row is None:\n",
    "                row = []\n",
    "                self.row_nums[r] = row\n",
    "            row.append(num)\n",
    "\n",
    "    def get_adjacent_nums(self, i: int, j: int) -> bool:\n",
    "        row_intervals = self.rows[i]\n",
    "        if row_intervals is None:\n",
    "            return False\n",
    "        inds = self.interval_intersection_inds(row_intervals, j)\n",
    "        out = self.row_nums[i][inds]\n",
    "        return out\n",
    "            \n",
    "    def interval_intersection_inds(self, intervals: np.ndarray, i: int) -> bool:\n",
    "        start, end = intervals.T\n",
    "        mask = (i >= start) & (i <= end)\n",
    "        inds = np.where(mask)[0]\n",
    "        return inds\n",
    "\n",
    "    def optimize(self):\n",
    "        for i, row in enumerate(self.rows):\n",
    "            if row is None:\n",
    "                continue\n",
    "            self.rows[i] = np.array(row)\n",
    "        for i, row in enumerate(self.row_nums):\n",
    "            if row is None:\n",
    "                continue\n",
    "            self.row_nums[i] = np.array(row)\n",
    "\n",
    "    def __len__(self) -> int:\n",
    "        return len(self.rows)\n",
    "    "
   ]
  },
  {
   "cell_type": "code",
   "execution_count": 9,
   "id": "e2d41c82-0938-4ffb-815a-7f3cea10d0a1",
   "metadata": {},
   "outputs": [],
   "source": [
    "test_lines = [\n",
    "    '467..114..',\n",
    "    '...*......',\n",
    "    '..35..633.',\n",
    "    '......#...',\n",
    "    '617*......',\n",
    "    '.....+.58.',\n",
    "    '..592.....',\n",
    "    '......755.',\n",
    "    '...$.*....',\n",
    "    '.664.598..',\n",
    "]"
   ]
  },
  {
   "cell_type": "code",
   "execution_count": 10,
   "id": "780e457d-ef23-4662-8f8d-6cece940dc16",
   "metadata": {},
   "outputs": [],
   "source": [
    "reg_symbol = re.compile(r'(\\*)')\n",
    "reg_num = re.compile(r'(\\d+)')\n",
    "\n",
    "def make_grid2(lines: List[str]) -> Grid2:\n",
    "    grid = Grid2(len(lines))\n",
    "    for i, line in enumerate(lines):\n",
    "        num_matches = list(reg_num.finditer(line))\n",
    "        nums = [int(m.group()) for m in num_matches]\n",
    "        num_spans = [m.span() for m in num_matches]\n",
    "        for num, span in zip(nums, num_spans):\n",
    "            grid.add_num(num, i, span)\n",
    "    grid.optimize()\n",
    "    return grid\n",
    "\n",
    "\n",
    "def calc_gear_ratio(lines: List[str], grid: Grid2) -> int:\n",
    "    out = 0\n",
    "    for i, line in enumerate(lines):\n",
    "        symbol_matches = reg_symbol.finditer(line)\n",
    "        symbol_inds = [m.start() for m in symbol_matches]\n",
    "        if len(symbol_inds) == 0:\n",
    "            continue\n",
    "        for j in symbol_inds:\n",
    "            adj_nums = grid.get_adjacent_nums(i, j)\n",
    "            if len(adj_nums) == 2:\n",
    "                out += np.prod(adj_nums)\n",
    "    return out"
   ]
  },
  {
   "cell_type": "code",
   "execution_count": 11,
   "id": "1344466c-cdb2-45de-a0b5-21f1bee06437",
   "metadata": {},
   "outputs": [],
   "source": [
    "def solve_2(lines: List[str]) -> int:\n",
    "    grid = make_grid2(lines)\n",
    "    out = calc_gear_ratio(lines, grid)\n",
    "    return out"
   ]
  },
  {
   "cell_type": "code",
   "execution_count": 12,
   "id": "647b6b42-2fe9-4467-8a91-dfc3eeea77e0",
   "metadata": {},
   "outputs": [
    {
     "data": {
      "text/plain": [
       "467835"
      ]
     },
     "execution_count": 12,
     "metadata": {},
     "output_type": "execute_result"
    }
   ],
   "source": [
    "test_lines = [\n",
    "    '467..114..',\n",
    "    '...*......',\n",
    "    '..35..633.',\n",
    "    '......#...',\n",
    "    '617*......',\n",
    "    '.....+.58.',\n",
    "    '..592.....',\n",
    "    '......755.',\n",
    "    '...$.*....',\n",
    "    '.664.598..',\n",
    "]\n",
    "solve_2(test_lines)"
   ]
  },
  {
   "cell_type": "code",
   "execution_count": 13,
   "id": "b355baa9-a549-439b-be94-6d169d7c7de9",
   "metadata": {},
   "outputs": [
    {
     "data": {
      "text/plain": [
       "84051670"
      ]
     },
     "execution_count": 13,
     "metadata": {},
     "output_type": "execute_result"
    }
   ],
   "source": [
    "inputs_path = 'inputs/3.txt'\n",
    "\n",
    "with open(inputs_path, 'r') as f:\n",
    "    lines = [line.strip() for line in f.readlines()]\n",
    "\n",
    "solve_2(lines)"
   ]
  }
 ],
 "metadata": {
  "kernelspec": {
   "display_name": "Python 3 (ipykernel)",
   "language": "python",
   "name": "python3"
  },
  "language_info": {
   "codemirror_mode": {
    "name": "ipython",
    "version": 3
   },
   "file_extension": ".py",
   "mimetype": "text/x-python",
   "name": "python",
   "nbconvert_exporter": "python",
   "pygments_lexer": "ipython3",
   "version": "3.10.12"
  }
 },
 "nbformat": 4,
 "nbformat_minor": 5
}
