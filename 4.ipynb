{
 "cells": [
  {
   "cell_type": "markdown",
   "id": "9b40e7db-1f85-4768-866e-52c32ba782c1",
   "metadata": {},
   "source": [
    "# 4\n",
    "\n",
    "https://adventofcode.com/2023/day/4"
   ]
  },
  {
   "cell_type": "markdown",
   "id": "9ff987e7-0f2e-4155-9957-10053b95e38d",
   "metadata": {},
   "source": [
    "## Part 1"
   ]
  },
  {
   "cell_type": "code",
   "execution_count": 1,
   "id": "c10240af-6695-4e5d-a2cd-012935978b6a",
   "metadata": {},
   "outputs": [],
   "source": [
    "from typing import List, Tuple\n",
    "import re\n",
    "import numpy as np"
   ]
  },
  {
   "cell_type": "code",
   "execution_count": 2,
   "id": "5e79059f-7e6b-42d3-b0b5-61b92283a658",
   "metadata": {},
   "outputs": [],
   "source": [
    "test_lines = [\n",
    "    'Card 1: 41 48 83 86 17 | 83 86  6 31 17  9 48 53',\n",
    "    'Card 2: 13 32 20 16 61 | 61 30 68 82 17 32 24 19',\n",
    "    'Card 3:  1 21 53 59 44 | 69 82 63 72 16 21 14  1',\n",
    "    'Card 4: 41 92 73 84 69 | 59 84 76 51 58  5 54 83',\n",
    "    'Card 5: 87 83 26 28 32 | 88 30 70 12 93 22 82 36',\n",
    "    'Card 6: 31 18 13 56 72 | 74 77 10 23 35 67 36 11',\n",
    "]"
   ]
  },
  {
   "cell_type": "code",
   "execution_count": 3,
   "id": "66fdf236-493e-4546-9096-897ba2d1db19",
   "metadata": {},
   "outputs": [],
   "source": [
    "def score_card(winning_nums: List[int], nums: List[int]) -> int:\n",
    "    winning_nums = set(winning_nums)\n",
    "    match_mask = (n in winning_nums for n in nums)\n",
    "    num_matches = sum(match_mask)\n",
    "    score = 2**(num_matches - 1) if num_matches > 0 else 0\n",
    "    return score\n",
    "\n",
    "def parse_nums(s: str) -> List[int]:\n",
    "    s = s.strip()\n",
    "    nums = re.split(r'\\s+', s)\n",
    "    nums = [int(n) for n in nums]\n",
    "    return nums\n",
    "\n",
    "def solve_1(lines: List[str]) -> int:\n",
    "    lines = [line[line.index(':') + 1:].strip() for line in lines]\n",
    "    cards_data = [line.split('|') for line in lines]\n",
    "    cards_data = [\n",
    "        (parse_nums(wnums), parse_nums(nums)) for wnums, nums in cards_data]\n",
    "    scores = [score_card(wnums, nums) for wnums, nums in cards_data]\n",
    "    out = sum(scores)\n",
    "    return out"
   ]
  },
  {
   "cell_type": "code",
   "execution_count": 4,
   "id": "f23d30fb-0c35-4224-842a-3ad275cc85b3",
   "metadata": {},
   "outputs": [
    {
     "data": {
      "text/plain": [
       "13"
      ]
     },
     "execution_count": 4,
     "metadata": {},
     "output_type": "execute_result"
    }
   ],
   "source": [
    "solve_1(test_lines)"
   ]
  },
  {
   "cell_type": "code",
   "execution_count": 5,
   "id": "32288e15-8d40-4694-ba85-00253356887e",
   "metadata": {},
   "outputs": [
    {
     "data": {
      "text/plain": [
       "23673"
      ]
     },
     "execution_count": 5,
     "metadata": {},
     "output_type": "execute_result"
    }
   ],
   "source": [
    "inputs_path = 'inputs/4.txt'\n",
    "\n",
    "with open(inputs_path, 'r') as f:\n",
    "    lines = [line.strip() for line in f.readlines()]\n",
    "\n",
    "solve_1(lines)"
   ]
  },
  {
   "cell_type": "markdown",
   "id": "2da100ff-c05c-4587-b334-c5691b0c5f63",
   "metadata": {},
   "source": [
    "## Part 2"
   ]
  },
  {
   "cell_type": "code",
   "execution_count": 6,
   "id": "bd0f2be3-b7c9-4da6-92f1-bdff0266ddb7",
   "metadata": {},
   "outputs": [],
   "source": [
    "from typing import List, Tuple\n",
    "import re\n",
    "from functools import cache\n",
    "import numpy as np"
   ]
  },
  {
   "cell_type": "code",
   "execution_count": 7,
   "id": "c4d28f52-cb9f-44ec-8e5a-408f6914fbca",
   "metadata": {},
   "outputs": [],
   "source": [
    "def score_card2(winning_nums: List[int], nums: List[int]) -> int:\n",
    "    winning_nums = set(winning_nums)\n",
    "    match_mask = (n in winning_nums for n in nums)\n",
    "    num_matches = sum(match_mask)\n",
    "    score = num_matches\n",
    "    return score\n",
    "\n",
    "def solve_2(lines: List[str]) -> int:\n",
    "    lines = [line[line.index(':') + 1:].strip() for line in lines]\n",
    "    cards_data = [line.split('|') for line in lines]\n",
    "    cards_data = [\n",
    "        (parse_nums(wnums), parse_nums(nums)) for wnums, nums in cards_data]\n",
    "    scores = [score_card2(wnums, nums) for wnums, nums in cards_data]\n",
    "    @cache\n",
    "    def count(i: int) -> int:\n",
    "        if i == 0:\n",
    "            return 1\n",
    "        parent_inds = [j for j in range(i) if (j + scores[j]) >= i]\n",
    "        self_count = sum(count(j) for j in parent_inds) + 1\n",
    "        return self_count\n",
    "    out = sum(count(i) for i in range(len(lines)))\n",
    "    return out"
   ]
  },
  {
   "cell_type": "code",
   "execution_count": 8,
   "id": "285d09f9-885c-417a-9f88-d5033322e41d",
   "metadata": {},
   "outputs": [
    {
     "data": {
      "text/plain": [
       "30"
      ]
     },
     "execution_count": 8,
     "metadata": {},
     "output_type": "execute_result"
    }
   ],
   "source": [
    "solve_2(test_lines)"
   ]
  },
  {
   "cell_type": "code",
   "execution_count": 9,
   "id": "d5b020f0-4391-4de8-a3c2-929cad55a7fd",
   "metadata": {},
   "outputs": [
    {
     "data": {
      "text/plain": [
       "12263631"
      ]
     },
     "execution_count": 9,
     "metadata": {},
     "output_type": "execute_result"
    }
   ],
   "source": [
    "inputs_path = 'inputs/4.txt'\n",
    "\n",
    "with open(inputs_path, 'r') as f:\n",
    "    lines = [line.strip() for line in f.readlines()]\n",
    "\n",
    "solve_2(lines)"
   ]
  }
 ],
 "metadata": {
  "kernelspec": {
   "display_name": "Python 3 (ipykernel)",
   "language": "python",
   "name": "python3"
  },
  "language_info": {
   "codemirror_mode": {
    "name": "ipython",
    "version": 3
   },
   "file_extension": ".py",
   "mimetype": "text/x-python",
   "name": "python",
   "nbconvert_exporter": "python",
   "pygments_lexer": "ipython3",
   "version": "3.10.12"
  }
 },
 "nbformat": 4,
 "nbformat_minor": 5
}
